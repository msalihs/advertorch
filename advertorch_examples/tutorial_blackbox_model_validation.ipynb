{
 "cells": [
  {
   "cell_type": "markdown",
   "metadata": {},
   "source": [
    "# Adversarial Robustness using AdverTorch BlackBox Estimators\n",
    "\n",
    "We have previously introduced Advertorch [link to blog post], which is a toolbox for adversarial robustness research. As part of our initiative at Borealis AI to create a platform for model validation, we have been building more tools to validate the robustness of various machine learning models and visuals to make it easy for developers to understand the results.\n",
    "\n",
    "In this tutorial, we will go through how Advertorch can be used to assess the robustness of any given ML model using the newly added blackbox estimators. These estimators allow you to use the toolbox for any type of model regardless of the deep learning framework used to develop them in the first place. \n",
    "\n",
    "Overall the tutorial will cover the following;\n",
    "\n",
    "- Definition of what we mean by adversarial robustness\n",
    "- How to use AdverTorch to create a blackbox gradient estimator\n",
    "- How to use AdverTorch to find adversarial examples\n",
    "- Methods for interpreting and visualizing the results"
   ]
  },
  {
   "cell_type": "markdown",
   "metadata": {},
   "source": [
    "## Adversarial Robustness\n",
    "\n",
    "Should there be a link to a paper here or is it safe to provide the definition we normally use? "
   ]
  },
  {
   "cell_type": "markdown",
   "metadata": {},
   "source": [
    "## Dataset and Model\n",
    "\n",
    "For this tutorial we will be using the breast cancer dataset which is available through `sklearn`. It's a classic dataset for a binary classification task. The features describe various mesurements of the cell nuclei from a digitized image of a breast scan and the output indicates whether the mass is malignant or benign. The dataset is relatively small with only 569 samples and 30 features but it is sufficient for the purpose of tutorial. It's also suitable for this tutorial since it does not contain any categorical features."
   ]
  },
  {
   "cell_type": "code",
   "execution_count": 142,
   "metadata": {},
   "outputs": [
    {
     "name": "stdout",
     "output_type": "stream",
     "text": [
      "Accuracy:  0.9210526315789473\n"
     ]
    }
   ],
   "source": [
    "# TODO: Delete this. Look into being able to run this from a colab notebook. \n",
    "import sys\n",
    "import warnings\n",
    "sys.path.append('../')\n",
    "warnings.filterwarnings(action='ignore', module=\"sklearn\")\n",
    "\n",
    "import numpy as np\n",
    "from sklearn.datasets import load_breast_cancer\n",
    "from sklearn.model_selection import train_test_split\n",
    "from sklearn.metrics import accuracy_score\n",
    "from xgboost import XGBClassifier\n",
    "\n",
    "\n",
    "dataset = load_breast_cancer()\n",
    "X, y = dataset.data, dataset.target\n",
    "\n",
    "X_train, X_test, y_train, y_test = train_test_split(X, y, test_size=0.2)\n",
    "tree_model = XGBClassifier(n_estimators=50)\n",
    "tree_model.fit(X_train, y_train)\n",
    "print(\"Accuracy: \", accuracy_score(tree_model.predict(X_test), y_test))"
   ]
  },
  {
   "cell_type": "markdown",
   "metadata": {},
   "source": [
    "## Blackbox model\n",
    "\n",
    "In order to perform attacks and find adversarial examples, we will use the newly added blackbox gradient estimators. As the name suggests, these estimators allow us to perform blackbox attacks where we might not have access to the gradients of the models or where the model simply does not have gradients (such as tree based models). All that is needed to construct a blackbox estimator is the `predict` function of the model which returns the class probabilities and an activation function.\n",
    "\n",
    "Note that, one big disadvantage of this approach is that it is computationally quite heavy. While iteratively searching for advarsarial examples, we will need to perform gradient estimation calculations repeatedly. Moreover, search will likely take longer since the estimated gradients will not be as accurate as they would be in the case of a whitebox test. "
   ]
  },
  {
   "cell_type": "code",
   "execution_count": 143,
   "metadata": {},
   "outputs": [],
   "source": [
    "from advertorch.attacks.blackbox import NESWrapper, FDWrapper\n",
    "import torch.nn as nn\n",
    "\n",
    "class LambdaLayer(nn.Module):\n",
    "    def __init__(self, lambd):\n",
    "        super(LambdaLayer, self).__init__()\n",
    "        self.lambd = lambd\n",
    "    def forward(self, x):\n",
    "        return self.lambd(x)\n",
    "\n",
    "activation = LambdaLayer(lambda x: x)\n",
    "predict_fcn = lambda x: torch.from_numpy(tree_model.predict_proba(x))\n",
    "pred_fcn = FDWrapper(func=predict_fcn, fd_eta=5.0)\n",
    "bb_estimator = nn.Sequential(pred_fcn, activation)"
   ]
  },
  {
   "cell_type": "markdown",
   "metadata": {},
   "source": [
    "## Statement\n",
    "\n",
    "Now we build our statement. As mentioned previously, we are assessing the robustness for a classifcation task. Our decision statement in this case is to find whether there exists $x'{\\in}Ball(x, \\epsilon)$ such that $F(x') {\\neq} y$.\n",
    "\n",
    "To this end, we check wheter a given couter-example, $x'$, is inside our neighbourhood $Ball(x, \\epsilon)$, and that $F(x') != y$. If both conditions are met, then the given couter-example example passes our decision statement. "
   ]
  },
  {
   "cell_type": "code",
   "execution_count": 144,
   "metadata": {},
   "outputs": [],
   "source": [
    "class RobustClassification:\n",
    "    \"\"\"For all inputs in a given neighbourhood, check if the model predicts the\n",
    "    same class (according to argmax)\"\"\"\n",
    "    def __init__(self, neighbourhood, model):\n",
    "        self.neighbourhood = neighbourhood\n",
    "        self.model = model\n",
    "\n",
    "    def pred(self, x):\n",
    "        with torch.no_grad():\n",
    "            y = self.model(x).argmax(-1)\n",
    "        return y\n",
    "\n",
    "    def eval_input(self, X, Xprime, epsilon):\n",
    "        return self.neighbourhood(Xprime, X) <= epsilon\n",
    "\n",
    "    def eval_output(self, Y, Yprime):\n",
    "        return Y != Yprime\n",
    "\n",
    "    def eval_counterexample(self, X, Xprime, epsilon):\n",
    "        valid_input = self.eval_input(X, Xprime, epsilon)\n",
    "        Y, Yprime = self.pred(X), self.pred(Xprime)\n",
    "        invalid_output = self.eval_output(Y, Yprime)\n",
    "        return valid_input & invalid_output"
   ]
  },
  {
   "cell_type": "markdown",
   "metadata": {},
   "source": [
    "## Neighbourhood\n",
    "\n",
    "Now we construct the neighbourhood which allows us to check wether a given adversarial example lies within the constraints we would like to impose. For this tutorial, we will be using a scaled L-inf norm constraint. For each counter-example, we will check if the following condition holds;\n",
    "\n",
    "$$ \\forall x' \\; | \\; {\\| x - x' \\|}_\\infty < \\epsilon \\land x_{min} < x' < x_{max} $$\n",
    "\n",
    "Since we're using an infinity norm, the $\\epsilon$ ball is really a rectangle. To ensure that the counter example lies within, we also need to scale our features, i.e. normalize the data points, or equivalently scale the $\\epsilon$ according to feature range. To do this, we construct a dictionary containing all the necessary information for each of the features such as, the valid input range, scale, feature name and feature type (\"REAL\", \"BIN\" or \"INT\"). There is also a flag to tell the solver to ignore a given feature. This will allow for selecting the features we want to perturb as well as ignoring the ones we cannot perturb. The valid input range allows us to build a conditional mask to enforce validity of the generated counter-examples. Features that are outside of the valid range are masked, and thus not perturbed.\n",
    "\n"
   ]
  },
  {
   "cell_type": "code",
   "execution_count": 145,
   "metadata": {},
   "outputs": [],
   "source": [
    "data_config = []\n",
    "\n",
    "for i in range(len(dataset.feature_names)):\n",
    "    data_config.append(\n",
    "        {\n",
    "            \"Feature\": dataset.feature_names[i],\n",
    "            \"Feature_type\": \"REAL\",\n",
    "            \"ignore\": False,\n",
    "            \"ranges\": [min(dataset.data[i]), max(dataset.data[i])],\n",
    "            \"scales\": max(dataset.data[i]) - min(dataset.data[i]),\n",
    "        }\n",
    "    )"
   ]
  },
  {
   "cell_type": "code",
   "execution_count": 146,
   "metadata": {},
   "outputs": [],
   "source": [
    "import torch\n",
    "from typing import Tuple, List, Dict\n",
    "from advertorch.utils import clamp as batch_clamp\n",
    "\n",
    "class ScaledLinfNeighbourhood(nn.Module):\n",
    "\n",
    "    def __init__( self, config: List[Dict]):\n",
    "        nn.Module.__init__(self)\n",
    "        self.set_scales(config)\n",
    "\n",
    "    def __call__(self, x1: torch.FloatTensor, x2: torch.FloatTensor) -> torch.FloatTensor:\n",
    "        z1, z2 = self.transform(x1), self.transform(x2)\n",
    "        return (abs(z1 - z2)).max(-1)[0]\n",
    "\n",
    "    def set_scales(self, config: List[Dict]):\n",
    "        n_dim = len(config)\n",
    "        mins, maxs, intmask, ignore = (torch.zeros(n_dim) for _ in range(4))\n",
    "        scales = torch.ones(n_dim)\n",
    "\n",
    "        for i, feature in enumerate(config):\n",
    "            if not feature[\"ignore\"]:\n",
    "                mins[i], maxs[i] = feature[\"ranges\"]\n",
    "                scales[i] = feature[\"scales\"]\n",
    "\n",
    "            intmask[i] = feature[\"Feature_type\"] in [\"BIN\", \"INT\"]\n",
    "            ignore[i] = feature[\"ignore\"]\n",
    "\n",
    "        self.register_buffer(\"mins\", mins)\n",
    "        self.register_buffer(\"maxs\", maxs)\n",
    "        self.register_buffer(\"scales\", scales)\n",
    "        self.register_buffer(\"intmask\", intmask.bool())\n",
    "        self.register_buffer(\"ignore\", ignore.bool())\n",
    "\n",
    "    def bounds(self, x: torch.FloatTensor, eps: torch.FloatTensor):\n",
    "        outlier_mask = (x < self.mins) | (x > self.maxs)\n",
    "        mask = outlier_mask | self.ignore\n",
    "        eps_max = torch.min(x + eps[:, None] * self.scales, self.maxs)\n",
    "        eps_min = torch.max(x - eps[:, None] * self.scales, self.mins)\n",
    "        bmin = mask * x + ~mask * eps_min - 1e-9\n",
    "        bmax = mask * x + ~mask * eps_max + 1e-9\n",
    "\n",
    "        return bmin, bmax\n",
    "\n",
    "    def transform(self, x: torch.FloatTensor) -> torch.FloatTensor:\n",
    "        return (x - self.mins) / self.scales\n",
    "\n",
    "    def inverse_transform(self, x: torch.FloatTensor) -> torch.FloatTensor:\n",
    "        return x * self.scales + self.mins\n",
    "\n",
    "    def project(self, x: torch.FloatTensor, bounds) -> torch.FloatTensor:\n",
    "        # Clamp to Linf Ball\n",
    "        bmin, bmax = bounds\n",
    "        batch_clamp(x, bmin, bmax)\n",
    "\n",
    "        # Fix integers\n",
    "        f, c = torch.floor(x), torch.ceil(x)\n",
    "        floor_check = (f >= bmin) & (f <= bmax)\n",
    "        rounded = torch.where(floor_check, f, c).float()\n",
    "\n",
    "        x = torch.where(self.intmask.bool(), rounded, x)\n",
    "\n",
    "        return x"
   ]
  },
  {
   "cell_type": "markdown",
   "metadata": {},
   "source": [
    "## Solver\n",
    "\n",
    "We use Projected Gradient Descent (PGD) to search for points in the input space which violate a statement of behaviour. These points are obtained from the original dataset using small perturbations, and are found by optimizing a surrogate loss (corresponding to the statement). We use the `perturb_iterative` function which is found in `advertorch`. It's a shared method for iterative attacks including `LinfPGD` which is what we will be using. We chose PGD for it's simlicity, the same idea could be extended to other solvers."
   ]
  },
  {
   "cell_type": "code",
   "execution_count": 147,
   "metadata": {},
   "outputs": [],
   "source": [
    "from advertorch.attacks.iterative_projected_gradient import perturb_iterative\n",
    "\n",
    "class LinfPGDSolver:\n",
    "    def __init__(self, statement, loss = nn.CrossEntropyLoss(reduction=\"sum\")):\n",
    "        self.statement = statement\n",
    "        self.loss = loss\n",
    "        self.model = self.build_model()\n",
    "\n",
    "    def build_model(self):\n",
    "        decoder = LambdaLayer(lambda x: self.decode(x))\n",
    "        return nn.Sequential(decoder, self.statement.model)\n",
    "\n",
    "    @property\n",
    "    def neighbourhood(self):\n",
    "        return self.statement.neighbourhood\n",
    "\n",
    "    def encode(self, x: torch.FloatTensor):\n",
    "        return self.neighbourhood.transform(x)\n",
    "\n",
    "    def decode(self, x: torch.FloatTensor):\n",
    "        return self.neighbourhood.inverse_transform(x)\n",
    "\n",
    "    def _get_clip_bounds(self, X: torch.FloatTensor, eps: torch.FloatTensor) -> Tuple[torch.FloatTensor, torch.FloatTensor]:\n",
    "        bmin, bmax = self.neighbourhood.bounds(X, eps)\n",
    "        bmin, bmax = self.encode(bmin), self.encode(bmax)\n",
    "        return bmin, bmax\n",
    "\n",
    "    def generate_counterexamples(\n",
    "        self, X: torch.FloatTensor, Y: torch.Tensor, linf_eps = 0.2, linf_eps_iter = 0.0625, linf_nb_iter = 500\n",
    "    ) -> torch.FloatTensor:\n",
    "        n_batch, _ = X.shape\n",
    "        linf_eps = linf_eps * X.new_ones((n_batch,))\n",
    "        bmin, bmax = self._get_clip_bounds(X, linf_eps)\n",
    "        Xe = self.encode(X)\n",
    "        adv = perturb_iterative(\n",
    "            xvar=Xe,\n",
    "            yvar=Y,\n",
    "            predict=self.model,\n",
    "            nb_iter=linf_nb_iter,\n",
    "            eps=linf_eps,\n",
    "            eps_iter=linf_eps_iter,\n",
    "            loss_fn=self.loss,\n",
    "            minimize=False,\n",
    "            clip_min=bmin,\n",
    "            clip_max=bmax,\n",
    "        ).detach()\n",
    "\n",
    "        adv, bmin, bmax = self.decode(adv), self.decode(bmin),self.decode(bmax)\n",
    "        adv = self.neighbourhood.project(adv, (bmin, bmax))\n",
    "\n",
    "        return adv"
   ]
  },
  {
   "cell_type": "markdown",
   "metadata": {},
   "source": [
    "## Search for Adversarial Examples\n",
    "\n",
    "Finally, we perform a binary search to find the best counter example, i.e counter example that satisfy all our constraints with smallest perturbation. We search for the best adversarial examples for a fixed number of iterations. Number of iterations in our binary search algorithm, number of iterations that we use for PGD solver and the number of samples we use for gradient estimators, countribute to the overall complexity of our test. Readers should be mindful when setting these values to ensure the adversarial examples are found wihtin a reasonable time frame. "
   ]
  },
  {
   "cell_type": "code",
   "execution_count": 148,
   "metadata": {},
   "outputs": [],
   "source": [
    "neighbourhood = ScaledLinfNeighbourhood(data_config)\n",
    "statement = RobustClassification(neighbourhood, bb_estimator)\n",
    "solver = LinfPGDSolver(statement=statement)"
   ]
  },
  {
   "cell_type": "code",
   "execution_count": 149,
   "metadata": {},
   "outputs": [],
   "source": [
    "def binary_search_over_param(\n",
    "    X: torch.Tensor,\n",
    "    Y: torch.Tensor,\n",
    "    statement,\n",
    "    solver,\n",
    "    init_val: float = 0.1,\n",
    "    min_val: float = 0.0,\n",
    "    max_val: float = 1.0,\n",
    "    max_bin_iter: int = 5,\n",
    "    seed: int = 0,\n",
    "    params_for_solver: dict = {},\n",
    ") -> Tuple[torch.FloatTensor, torch.FloatTensor]:\n",
    "    torch.manual_seed(seed)\n",
    "    n_batch, _ = X.shape\n",
    "    cur_min = X.new_full((n_batch,), min_val)\n",
    "    cur_max = X.new_full((n_batch,), max_val)\n",
    "    cur_val = X.new_full((n_batch,), init_val)\n",
    "    best_adv = torch.zeros_like(X)\n",
    "    solver_dict = dict(params_for_solver)\n",
    "    for i in range(max_bin_iter):\n",
    "        solver_dict['linf_eps'] = cur_val\n",
    "        adv = solver.generate_counterexamples(X, Y, **solver_dict)\n",
    "        violations = statement.eval_counterexample(X, adv, cur_val)\n",
    "        best_adv[violations] = adv[violations]\n",
    "        cur_min = torch.where(violations, cur_min, cur_val)\n",
    "        cur_max = torch.where(violations, cur_val, cur_max)\n",
    "        cur_val = (cur_min + cur_max) / 2\n",
    "    return best_adv, cur_max\n",
    "\n",
    "best_adv, best_eps = binary_search_over_param(\n",
    "    X=torch.Tensor(X_test),\n",
    "    Y=torch.LongTensor(y_test),\n",
    "    statement=statement,\n",
    "    solver=solver,\n",
    "    max_bin_iter=10,\n",
    "    seed=0,\n",
    "    params_for_solver = {\n",
    "        'linf_eps_iter':0.0625,\n",
    "        'linf_nb_iter':100\n",
    "    }\n",
    ")"
   ]
  },
  {
   "cell_type": "markdown",
   "metadata": {},
   "source": [
    "## Understanding the Results\n",
    "\n",
    "Now that we have our adversarial examples, we would like to evaluate them. We show couple of plots that might be useful in understanding how robust a given model is. However, it is important to note that robustness is not quantifiable. We do not provide any concrete metric as a measurement of robustness. We rather attempt to provide some insight that might be useful to the reader. They can be used in isolation but they're way more insightful when doing comparisons between two models or throughout the model development phase. \n",
    "\n",
    "### Flip Rate vs Epsilon Size\n",
    "\n",
    "Epsilon size is the amount of perturbation required to generate a counterexample. The mean epsilon size is the average of all epsilon sizes found during the adv example search. The higher the mean epsilon size, the higher the robustness is. This value is best interpreted in comparison to competing models rather than in isolation. \n",
    "\n",
    "Flip rate is the rate of the test dataset that we were able to find adversarial examples for, i.e. flip the label from 0 to 1, or 1 to 0. It is useful to see how the flip rate changes as the size of the epsilon ball changes. It is also useful to see how samples from different labels perform. In this toy example, we see that samples from negative samples (y=0) are slightly less robust compared to the positive samples (y=1). Depending on the application and the metric being used for performance of the model, this might be important."
   ]
  },
  {
   "cell_type": "code",
   "execution_count": 150,
   "metadata": {},
   "outputs": [
    {
     "name": "stdout",
     "output_type": "stream",
     "text": [
      "Flip Rate is 0.8333333134651184%.\n",
      "Mean epsilon size is 0.047843337059020996.\n"
     ]
    },
    {
     "data": {
      "image/png": "[encoded data removed]",
      "text/plain": [
       "<Figure size 576x576 with 1 Axes>"
      ]
     },
     "metadata": {},
     "output_type": "display_data"
    }
   ],
   "source": [
    "import matplotlib.pyplot as plt\n",
    "# Compute mean epsilon\n",
    "y_prob = tree_model.predict_proba(X_test)[:, 1]\n",
    "y_prob_best_adv = tree_model.predict_proba(best_adv)[:, 1]\n",
    "threshold = 0.5\n",
    "\n",
    "idx = best_eps != 1.0\n",
    "print(f'Flip Rate is {sum(idx)/len(best_eps)}%.')\n",
    "print(f'Mean epsilon size is {best_eps[idx].mean()}.')\n",
    "\n",
    "def cumulative_dist_plot(x, bins, ax, **kwargs):\n",
    "    values, base = np.histogram(x, bins=bins)\n",
    "    cumulative = np.insert(np.cumsum(values), 0, 0.0)\n",
    "    cumulative = cumulative / cumulative[-1]\n",
    "    return ax.errorbar(base, cumulative, **kwargs)\n",
    "\n",
    "plt.style.use('ggplot')\n",
    "fig, ax = plt.subplots(1, 1, figsize=(8,8))\n",
    "plot_config = {'bins':10, 'ax':ax, 'marker':'o', 'linestyle':'--'}\n",
    "cumulative_dist_plot(best_eps[(torch.Tensor(y_test)==1) & idx].cpu().numpy(), label='positive samples (Y==1)', **plot_config)\n",
    "cumulative_dist_plot(best_eps[(torch.Tensor(y_test)==0) & idx].cpu().numpy(), label='negative samples (Y==0)', **plot_config)\n",
    "cumulative_dist_plot(best_eps[idx].cpu().numpy(), label='combined', **plot_config)\n",
    "\n",
    "plt.legend()\n",
    "plt.xlabel('epsilon', fontsize=20)\n",
    "plt.ylabel('Flip Rate', fontsize=20)\n",
    "plt.title('Flip Rate vs epsilon', fontsize=20)\n",
    "plt.show()"
   ]
  },
  {
   "cell_type": "markdown",
   "metadata": {},
   "source": [
    "### Initial vs Perturbed Score\n",
    "In this plot, we try to understand how succesfull the attack was in flipping the output label. We generate a color coded scatter plot, where each point corresponds to a sample. The coordinates of the point tells us what the model prediction for the original sample and for the corresponding counter-example. \n",
    "\n",
    "The points in the upper left corner and lower right corner are of particular interest to the users. These are the points that were originally predicted with a strong probability score and now being labelled with the opposite label with a strong probability score. The colour of the points are also important as it indicates the epsilon size. The points with lower epsilon sizes are more concerning than others as it means these can be quite sensitive to perturbations. "
   ]
  },
  {
   "cell_type": "code",
   "execution_count": 151,
   "metadata": {},
   "outputs": [
    {
     "name": "stderr",
     "output_type": "stream",
     "text": [
      "Auto-removal of grids by pcolor() and pcolormesh() is deprecated since 3.5 and will be removed two minor releases later; please call grid(False) first.\n"
     ]
    },
    {
     "data": {
      "text/plain": [
       "Text(0.5, 1.0, 'Initial Prediction Score vs Perturbed Prediction Score')"
      ]
     },
     "execution_count": 151,
     "metadata": {},
     "output_type": "execute_result"
    },
    {
     "data": {
      "image/png": "[encoded data removed]",
      "text/plain": [
       "<Figure size 576x576 with 2 Axes>"
      ]
     },
     "metadata": {},
     "output_type": "display_data"
    }
   ],
   "source": [
    "fig, ax = plt.subplots(1, 1, figsize=(8,8))\n",
    "\n",
    "sc = ax.scatter(x=y_prob[idx], \n",
    "                y=y_prob_best_adv[idx], \n",
    "                c=best_eps[idx],\n",
    "                alpha=0.5)\n",
    "\n",
    "cbar = plt.colorbar(sc)\n",
    "cbar.set_label('size of epsilon', fontsize=12)\n",
    "plt.xlabel('initial score', fontsize=20)\n",
    "plt.ylabel('perturbed score', fontsize=20)\n",
    "\n",
    "plt.hlines(0.5, 0, 1, linestyles=\"--\")\n",
    "_ = plt.vlines(0.5, 0, 1, linestyles=\"--\")\n",
    "plt.title('Initial Prediction Score vs Perturbed Prediction Score', fontsize=20)"
   ]
  },
  {
   "cell_type": "markdown",
   "metadata": {},
   "source": [
    "### Out of Distribution Check\n",
    "\n",
    "Lastly, we investigate whether the counter-examples found in the attack allign with the original dataset. If there is a significant difference from the original dataset, the counter examples might not be of much concern as they might be detected by outlier detectors. For this tutorial, we will use Isolation Forest to see if any of our counter-examples are detected as an outlier. "
   ]
  },
  {
   "cell_type": "code",
   "execution_count": 152,
   "metadata": {},
   "outputs": [
    {
     "name": "stdout",
     "output_type": "stream",
     "text": [
      "0 samples detected as outliers\n"
     ]
    }
   ],
   "source": [
    "from sklearn.ensemble import IsolationForest\n",
    "\n",
    "clf = IsolationForest().fit(X_test)\n",
    "print(f'{sum(clf.predict(best_adv) == 1)} samples detected as outliers')"
   ]
  },
  {
   "cell_type": "markdown",
   "metadata": {},
   "source": [
    "In addition, we will use the [Proxy-A Distance](https://papers.nips.cc/paper/2983-analysis-of-representations-for-domain-adaptation)(PAD) as a metric to measure how the adversarial example distribution shifts from original data points. To do this, we train a new model to distinguish original data from the adversarial examples. We combine the test dataset with the adversarial examples, create output labels where the samples from the original dataset are labelled as 0 and the adversarial examples are labelled as 1. Then we train an XGBoost classifier to distingues the two. Finally we get the MAE score on our test set and compute the PAD measure as $1-2*{MAE}$. The lower the PAD score, the closer two datasets are."
   ]
  },
  {
   "cell_type": "code",
   "execution_count": 153,
   "metadata": {},
   "outputs": [
    {
     "name": "stdout",
     "output_type": "stream",
     "text": [
      "Proxy-A distance: 0.7646977787926084\n"
     ]
    }
   ],
   "source": [
    "from sklearn.metrics import mean_absolute_error\n",
    "\n",
    "x_adv = best_adv[idx]\n",
    "y_prob_threshold = 0.5\n",
    "\n",
    "# Train auxiliary model to classify adversarial examples.\n",
    "# Combine the datasets\n",
    "x_comb = np.r_[x_adv, X_test]\n",
    "y_comb = np.r_[np.ones(x_adv.shape[0]), np.zeros(X_test.shape[0])]\n",
    "x_comb_train, x_comb_test, y_comb_train, y_comb_test = train_test_split(x_comb, y_comb, train_size=0.7)\n",
    "# Train a simple XGBoost classifier\n",
    "model = XGBClassifier(n_estimators=5).fit(x_comb_train, y_comb_train)\n",
    "\n",
    "# Compute MAE on test set\n",
    "y_pred = [1-prob[0] for prob in model.predict_proba(x_comb_test)]\n",
    "mae = mean_absolute_error(np.array(y_pred), y_comb_test)\n",
    "\n",
    "# Compute Proxy-A distance\n",
    "proxy_a_score = 1 - 2*mae\n",
    "\n",
    "print(f'Proxy-A distance: {proxy_a_score}')"
   ]
  }
 ],
 "metadata": {
  "interpreter": {
   "hash": "52d1824760583630568b3224a7b4b8173d217e641da449cb1eb4bce95f7222a0"
  },
  "kernelspec": {
   "display_name": "Python 3.6.13 ('advertorch')",
   "language": "python",
   "name": "python3"
  },
  "language_info": {
   "codemirror_mode": {
    "name": "ipython",
    "version": 3
   },
   "file_extension": ".py",
   "mimetype": "text/x-python",
   "name": "python",
   "nbconvert_exporter": "python",
   "pygments_lexer": "ipython3",
   "version": "3.7.0"
  },
  "orig_nbformat": 4
 },
 "nbformat": 4,
 "nbformat_minor": 2
}
